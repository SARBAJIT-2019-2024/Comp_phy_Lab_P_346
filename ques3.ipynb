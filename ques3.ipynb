{
 "cells": [
  {
   "cell_type": "code",
   "execution_count": 66,
   "source": [
    "#Calculation factotial of a natural number\r\n",
    "def fact_rial(num) :#defined a function \r\n",
    "   if num < 0:\r\n",
    "      print(\"Sorry, factorial does not exist for negative numbers\")\r\n",
    "   else:\r\n",
    "      i = 0\r\n",
    "      prod = 1\r\n",
    "      j = 1\r\n",
    "      while i < num :\r\n",
    "         prod = prod * j\r\n",
    "         j = j + 1\r\n",
    "         i = i + 1\r\n",
    "      return prod\r\n",
    "\r\n",
    "num = 7\r\n",
    "fact=fact_rial(num)\r\n",
    "if fact!=None :\r\n",
    "   print (\" Factorial of \" , num , \" is: \",\r\n",
    "                                fact_rial(num) )      "
   ],
   "outputs": [
    {
     "output_type": "stream",
     "name": "stdout",
     "text": [
      " Factorial of  7  is:  5040\n"
     ]
    }
   ],
   "metadata": {}
  }
 ],
 "metadata": {
  "orig_nbformat": 4,
  "language_info": {
   "name": "python",
   "version": "3.9.6",
   "mimetype": "text/x-python",
   "codemirror_mode": {
    "name": "ipython",
    "version": 3
   },
   "pygments_lexer": "ipython3",
   "nbconvert_exporter": "python",
   "file_extension": ".py"
  },
  "kernelspec": {
   "name": "python3",
   "display_name": "Python 3.9.6 64-bit"
  },
  "interpreter": {
   "hash": "dcacb0086e9a4f4eabd41c33bf4faac5ea0a3337ed3f5eff0680afa930572c04"
  }
 },
 "nbformat": 4,
 "nbformat_minor": 2
}