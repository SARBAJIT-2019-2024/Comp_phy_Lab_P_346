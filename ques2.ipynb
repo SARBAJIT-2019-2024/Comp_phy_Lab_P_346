{
 "cells": [
  {
   "cell_type": "code",
   "execution_count": 2,
   "source": [
    "# Question 2\r\n",
    "#Calculating the sum of N terms of an AP, GP and HP series for common difference d=1.5 and common ratio 0.5.\r\n",
    "\r\n",
    "\r\n",
    "def sumOfAP( a, d, N) : #defining a function for AP\r\n",
    "    sum = 0\r\n",
    "    i = 0\r\n",
    "    if N < 0:\r\n",
    "        print(\"Invalid input of N, put N > 0\")\r\n",
    "    else:\r\n",
    "        while i < N :\r\n",
    "            sum = sum + a\r\n",
    "            a = a + d\r\n",
    "            i = i + 1\r\n",
    "    return sum\r\n",
    "     \r\n",
    "# Driver function\r\n",
    "\r\n",
    "N = -3\r\n",
    "a = 1\r\n",
    "d = 1.5\r\n",
    "sumAp = sumOfAP(a,d,N)\r\n",
    "if sumAp!=0 :\r\n",
    "    print (\"Sum of the ap series is \",sumOfAP(a, d, N))\r\n",
    "\r\n",
    "\r\n",
    "N = 7\r\n",
    "a = 5\r\n",
    "d = 1.5\r\n",
    "print (\"Sum of the ap series is \",sumOfAP(a, d, N))\r\n",
    "\r\n",
    "\r\n",
    "N = 10\r\n",
    "a = 6\r\n",
    "d = 1.5\r\n",
    "print (\"Sum of the ap series is \",sumOfAP(a, d, N))\r\n",
    "\r\n",
    "\r\n",
    "N = 20\r\n",
    "a = 5\r\n",
    "d = 1.5\r\n",
    "print (\"Sum of the ap series is \",sumOfAP(a, d, N))"
   ],
   "outputs": [
    {
     "output_type": "stream",
     "name": "stdout",
     "text": [
      "Invalid input of N, put N > 0\n",
      "Sum of the ap series is  66.5\n",
      "Sum of the ap series is  127.5\n",
      "Sum of the ap series is  385.0\n"
     ]
    }
   ],
   "metadata": {}
  },
  {
   "cell_type": "code",
   "execution_count": 3,
   "source": [
    "#Calculating the sum of N terms of a GP series for  common ratio 0.5.\r\n",
    "\r\n",
    "def sumOfgp( a, R, N) : #defining a function of GP\r\n",
    "    sum = 0\r\n",
    "    i = 0\r\n",
    "    \r\n",
    "    while i < N :\r\n",
    "        sum = sum + a\r\n",
    "        a = a * R\r\n",
    "        i = i + 1\r\n",
    "    return sum\r\n",
    "     \r\n",
    "# Driver function\r\n",
    "N = 10\r\n",
    "a = 1\r\n",
    "R = 0.5\r\n",
    "print (\"Sum of the GP series is \",sumOfgp(a, R, N))\r\n",
    "\r\n",
    "N = 10\r\n",
    "a = 5\r\n",
    "R = 0.5\r\n",
    "print (\"Sum of the GP series is \",sumOfgp(a, R, N))\r\n",
    "\r\n",
    "N = 15\r\n",
    "a = 10\r\n",
    "R = 0.5\r\n",
    "print (\"Sum of the GP series is \",sumOfgp(a, R, N))\r\n",
    "\r\n",
    "N = 5\r\n",
    "a = 9\r\n",
    "R = 0.5\r\n",
    "print (\"Sum of the GP series is \",sumOfgp(a, R, N))\r\n",
    "\r\n",
    "N = 30\r\n",
    "a = 12\r\n",
    "R = 0.5\r\n",
    "print (\"Sum of the GP series is \",sumOfgp(a, R, N))"
   ],
   "outputs": [
    {
     "output_type": "stream",
     "name": "stdout",
     "text": [
      "Sum of the GP series is  1.998046875\n",
      "Sum of the GP series is  9.990234375\n",
      "Sum of the GP series is  19.9993896484375\n",
      "Sum of the GP series is  17.4375\n",
      "Sum of the GP series is  23.999999977648258\n"
     ]
    }
   ],
   "metadata": {}
  },
  {
   "cell_type": "code",
   "execution_count": 5,
   "source": [
    "#Calculating the sum of N terms of a HP series for  common difference d=1.5\r\n",
    "\r\n",
    "def sumOfHP( a, d, N) :\r\n",
    "    sum = 0\r\n",
    "    i = 0\r\n",
    "    if a == 0:\r\n",
    "        print(\"Enter a valid input for 'a', 'a' can't be 0\")#Checking validity of input 'a'\r\n",
    "    else:\r\n",
    "        sum = 0\r\n",
    "        while i < N :\r\n",
    "            sum = sum + 1/a\r\n",
    "            a = a + d\r\n",
    "            i = i + 1\r\n",
    "        return sum\r\n",
    "\r\n",
    "\r\n",
    "sumhp=sumOfHP(a,d,N)\r\n",
    "if sumhp!= None:\r\n",
    "    print (\"Sum of the HP series is \",sumOfHP(a, d, N))\r\n",
    "\r\n",
    "\r\n",
    "# Driver function\r\n",
    "N = 2\r\n",
    "a = 1\r\n",
    "d = 1.5\r\n",
    "sumhp=sumOfHP(a,d,N)\r\n",
    "if sumhp!= None:\r\n",
    "    print (\"Sum of the HP series is \",sumOfHP(a, d, N))\r\n",
    "\r\n",
    "N = 6\r\n",
    "a = 0\r\n",
    "sumhp=sumOfHP(a,d,N)\r\n",
    "if sumhp!= None:\r\n",
    "    print (\"Sum of the HP series is \",sumOfHP(a, d, N))\r\n",
    "\r\n",
    "N = 8\r\n",
    "a = 16\r\n",
    "sumhp=sumOfHP(a,d,N)\r\n",
    "if sumhp!= None:\r\n",
    "    print (\"Sum of the HP series is \",sumOfHP(a, d, N))\r\n",
    "\r\n",
    "N = 9\r\n",
    "a = 150\r\n",
    "sumhp=sumOfHP(a,d,N)\r\n",
    "if sumhp!= None:\r\n",
    "    print (\"Sum of the HP series is \",sumOfHP(a, d, N))\r\n",
    "\r\n",
    "N = 2\r\n",
    "a = 15\r\n",
    "\r\n",
    "sumhp=sumOfHP(a,d,N)\r\n",
    "if sumhp!= None:\r\n",
    "    print (\"Sum of the HP series is \",sumOfHP(a, d, N))"
   ],
   "outputs": [
    {
     "output_type": "stream",
     "name": "stdout",
     "text": [
      "Sum of the HP series is  0.12727272727272726\n",
      "Sum of the HP series is  1.4\n",
      "Enter a valid input for 'a', 'a' can't be 0\n",
      "Sum of the HP series is  0.38679850989561454\n",
      "Sum of the HP series is  0.05772790639122848\n",
      "Sum of the HP series is  0.12727272727272726\n"
     ]
    }
   ],
   "metadata": {}
  }
 ],
 "metadata": {
  "orig_nbformat": 4,
  "language_info": {
   "name": "python",
   "version": "3.9.6",
   "mimetype": "text/x-python",
   "codemirror_mode": {
    "name": "ipython",
    "version": 3
   },
   "pygments_lexer": "ipython3",
   "nbconvert_exporter": "python",
   "file_extension": ".py"
  },
  "kernelspec": {
   "name": "python3",
   "display_name": "Python 3.9.6 64-bit"
  },
  "interpreter": {
   "hash": "dcacb0086e9a4f4eabd41c33bf4faac5ea0a3337ed3f5eff0680afa930572c04"
  }
 },
 "nbformat": 4,
 "nbformat_minor": 2
}