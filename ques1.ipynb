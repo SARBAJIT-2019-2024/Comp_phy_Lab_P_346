{
 "cells": [
  {
   "cell_type": "code",
   "execution_count": 3,
   "source": [
    "#  Question 1\r\n",
    "#Code for calculating the sum of first N natural numbers and Odd naturalnumbers\r\n",
    "\r\n",
    "def Nat_Sum(n) :#defined a function \r\n",
    "    sum = 0\r\n",
    "    j = 1\r\n",
    "    i = 0\r\n",
    "    if n < 0 :\r\n",
    "        print(\"Enter a valid input for n i.e. put n > 0\")#Check for valid input\r\n",
    "    else:\r\n",
    "        sum = 0   \r\n",
    "    while i < n:\r\n",
    "        sum = sum + j\r\n",
    "        j = j + 1\r\n",
    "        i = i + 1\r\n",
    "    return sum\r\n",
    "\r\n",
    "#Driver function\r\n",
    "n = 10\r\n",
    "print (\" Sum of first\" , n, \"natural Numbers is: \",\r\n",
    "                                Nat_Sum(n) )\r\n",
    "\r\n",
    "n = 15\r\n",
    "print (\" Sum of first\" , n, \"natural Numbers is: \",\r\n",
    "                                Nat_Sum(n) )\r\n",
    "n = 20\r\n",
    "print (\" Sum of first\" , n, \"natural Numbers is: \",\r\n",
    "                                Nat_Sum(n) )\r\n",
    "n = 9\r\n",
    "print (\" Sum of first\" , n, \"natural Numbers is: \",\r\n",
    "                                Nat_Sum(n) )\r\n",
    "\r\n",
    "n = -3\r\n",
    "print (\" Sum of first\" , n, \"natural Numbers is: \",\r\n",
    "                                Nat_Sum(n) )\r\n"
   ],
   "outputs": [
    {
     "output_type": "stream",
     "name": "stdout",
     "text": [
      " Sum of first 10 natural Numbers is:  55\n",
      " Sum of first 15 natural Numbers is:  120\n",
      " Sum of first 20 natural Numbers is:  210\n",
      " Sum of first 9 natural Numbers is:  45\n",
      "Enter a valid input for n i.e. put n > 0\n",
      " Sum of first -3 natural Numbers is:  0\n"
     ]
    }
   ],
   "metadata": {}
  },
  {
   "cell_type": "code",
   "execution_count": 2,
   "source": [
    "def odd_Sum(n) :#defining a function for calculating the odd sum\r\n",
    "    sum = 0\r\n",
    "    j = 1\r\n",
    "    i = 0\r\n",
    "    if n < 0 :# condition for valid input\r\n",
    "        print(\"Enter a valid input for n i.e. put n > 0\")\r\n",
    "    else:\r\n",
    "        sum = 0\r\n",
    "    while i < n:\r\n",
    "        sum = sum + j\r\n",
    "        j = j + 2\r\n",
    "        i = i + 1\r\n",
    "    return sum\r\n",
    " \r\n",
    "# Driver Code\r\n",
    "n = 20\r\n",
    "print (\" Sum of first\" , n, \"Odd Numbers is: \",\r\n",
    "                                odd_Sum(n) )\r\n",
    "n = 5\r\n",
    "print (\" Sum of first\" , n, \"Odd Numbers is: \",\r\n",
    "                                odd_Sum(n) )\r\n",
    "n = 6\r\n",
    "print (\" Sum of first\" , n, \"Odd Numbers is: \",\r\n",
    "                                odd_Sum(n) )\r\n",
    "n = 7\r\n",
    "print (\" Sum of first\" , n, \"Odd Numbers is: \",\r\n",
    "                                odd_Sum(n) )\r\n",
    "n = -3\r\n",
    "print (\" Sum of first\" , n, \"Odd Numbers is: \",\r\n",
    "                                odd_Sum(n))                                "
   ],
   "outputs": [
    {
     "output_type": "stream",
     "name": "stdout",
     "text": [
      " Sum of first 20 Odd Numbers is:  400\n",
      " Sum of first 5 Odd Numbers is:  25\n",
      " Sum of first 6 Odd Numbers is:  36\n",
      " Sum of first 7 Odd Numbers is:  49\n",
      "Enter a valid input for n i.e. put n > 0\n",
      " Sum of first -3 Odd Numbers is:  0\n"
     ]
    }
   ],
   "metadata": {}
  }
 ],
 "metadata": {
  "orig_nbformat": 4,
  "language_info": {
   "name": "python",
   "version": "3.9.6",
   "mimetype": "text/x-python",
   "codemirror_mode": {
    "name": "ipython",
    "version": 3
   },
   "pygments_lexer": "ipython3",
   "nbconvert_exporter": "python",
   "file_extension": ".py"
  },
  "kernelspec": {
   "name": "python3",
   "display_name": "Python 3.9.6 64-bit"
  },
  "interpreter": {
   "hash": "dcacb0086e9a4f4eabd41c33bf4faac5ea0a3337ed3f5eff0680afa930572c04"
  }
 },
 "nbformat": 4,
 "nbformat_minor": 2
}