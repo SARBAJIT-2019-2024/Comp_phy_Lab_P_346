{
 "cells": [
  {
   "cell_type": "code",
   "execution_count": 19,
   "source": [
    "num = int(input(\"Enter the value of N: \"))\r\n",
    "hold = num\r\n",
    "SUM = 0\r\n",
    "\r\n",
    "if num <= 0: \r\n",
    "   print(\"Enter a  positive number!\") \r\n",
    "else: \r\n",
    "   while num > 0:\r\n",
    "        SUM = SUM + num\r\n",
    "        num = num - 1;\r\n",
    "    # displaying output\r\n",
    "print(\"Sum of first\", hold, \"natural numbers is: \", SUM)"
   ],
   "outputs": [
    {
     "output_type": "stream",
     "name": "stdout",
     "text": [
      "Enter a  positive number!\n",
      "Sum of first -5 natural numbers is:  0\n"
     ]
    }
   ],
   "metadata": {}
  },
  {
   "cell_type": "code",
   "execution_count": 16,
   "source": [
    "num = int(input(\"Enter the value of n: \"))\r\n",
    "hold = num\r\n",
    "SUM = 0\r\n",
    "\r\n",
    "if num <= 0: \r\n",
    "   print(\"Enter a  positive number!\") \r\n",
    "else: \r\n",
    "   while num > 0:\r\n",
    "        SUM = SUM + num\r\n",
    "        num = num - 1;\r\n",
    "    # displaying output\r\n",
    "print(\"Sum of first\", hold, \"natural numbers is: \", SUM)"
   ],
   "outputs": [
    {
     "output_type": "stream",
     "name": "stdout",
     "text": [
      "Sum of first 50 natural numbers is:  1275\n"
     ]
    }
   ],
   "metadata": {}
  },
  {
   "cell_type": "code",
   "execution_count": 20,
   "source": [
    "num = int(input(\"Enter the value of n: \"))\r\n",
    "hold = num\r\n",
    "SUM = 0\r\n",
    "\r\n",
    "if num <= 0: \r\n",
    "   print(\"Enter a  positive number!\") \r\n",
    "else: \r\n",
    "   while num > 0:\r\n",
    "        SUM = SUM + num\r\n",
    "        num = num - 1;\r\n",
    "    # displaying output\r\n",
    "print(\"Sum of first\", hold, \"natural numbers is: \", SUM)"
   ],
   "outputs": [
    {
     "output_type": "stream",
     "name": "stdout",
     "text": [
      "Sum of first 25 natural numbers is:  325\n"
     ]
    }
   ],
   "metadata": {}
  },
  {
   "cell_type": "code",
   "execution_count": 21,
   "source": [
    "num = int(input(\"Enter the value of n: \"))\r\n",
    "hold = num\r\n",
    "SUM = 0\r\n",
    "\r\n",
    "if num <= 0: \r\n",
    "   print(\"Enter a  positive number!\") \r\n",
    "else: \r\n",
    "   while num > 0:\r\n",
    "        SUM = SUM + num\r\n",
    "        num = num - 1;\r\n",
    "    # displaying output\r\n",
    "print(\"Sum of first\", hold, \"natural numbers is: \", SUM)"
   ],
   "outputs": [
    {
     "output_type": "stream",
     "name": "stdout",
     "text": [
      "Sum of first 10 natural numbers is:  55\n"
     ]
    }
   ],
   "metadata": {}
  },
  {
   "cell_type": "code",
   "execution_count": 22,
   "source": [
    "num = int(input(\"Enter the value of n: \"))\r\n",
    "hold = num\r\n",
    "SUM = 0\r\n",
    "\r\n",
    "if num <= 0: \r\n",
    "   print(\"Enter a  positive number!\") \r\n",
    "else: \r\n",
    "   while num > 0:\r\n",
    "        SUM = SUM + num\r\n",
    "        num = num - 1;\r\n",
    "    # displaying output\r\n",
    "print(\"Sum of first\", hold, \"natural numbers is: \", SUM)"
   ],
   "outputs": [
    {
     "output_type": "stream",
     "name": "stdout",
     "text": [
      "Sum of first 20 natural numbers is:  210\n"
     ]
    }
   ],
   "metadata": {}
  }
 ],
 "metadata": {
  "orig_nbformat": 4,
  "language_info": {
   "name": "python",
   "version": "3.9.6",
   "mimetype": "text/x-python",
   "codemirror_mode": {
    "name": "ipython",
    "version": 3
   },
   "pygments_lexer": "ipython3",
   "nbconvert_exporter": "python",
   "file_extension": ".py"
  },
  "kernelspec": {
   "name": "python3",
   "display_name": "Python 3.9.6 64-bit"
  },
  "interpreter": {
   "hash": "dcacb0086e9a4f4eabd41c33bf4faac5ea0a3337ed3f5eff0680afa930572c04"
  }
 },
 "nbformat": 4,
 "nbformat_minor": 2
}